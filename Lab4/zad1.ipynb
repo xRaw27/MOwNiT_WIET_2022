{
 "cells": [
  {
   "cell_type": "code",
   "execution_count": null,
   "metadata": {
    "collapsed": true
   },
   "outputs": [],
   "source": [
    "import numpy as np\n",
    "from TSP import TSP\n",
    "from SimulatedAnnealing import SimulatedAnnealing\n",
    "from IPython.display import HTML"
   ]
  },
  {
   "cell_type": "code",
   "execution_count": null,
   "outputs": [],
   "source": [
    "tsp = TSP(50)\n",
    "tsp.points_from_uniform_distribution()\n",
    "\n",
    "# t_0 = 3 * SimulatedAnnealing.init_cost_variance(200, lambda: tsp.cost(), lambda: tsp.points_from_uniform_distribution())\n",
    "t_0 = 2 * SimulatedAnnealing.init_temperature(tsp, 200)\n",
    "print(t_0)\n",
    "\n",
    "sa = SimulatedAnnealing(tsp, T=t_0, T_min=0.5, n=1000, alfa=0.99)\n",
    "animation = sa.optimize(save_animation=True, iterations_per_frame=50)\n",
    "HTML(animation.to_jshtml())"
   ],
   "metadata": {
    "collapsed": false,
    "pycharm": {
     "name": "#%%\n"
    }
   }
  }
 ],
 "metadata": {
  "kernelspec": {
   "display_name": "Python 3",
   "language": "python",
   "name": "python3"
  },
  "language_info": {
   "codemirror_mode": {
    "name": "ipython",
    "version": 2
   },
   "file_extension": ".py",
   "mimetype": "text/x-python",
   "name": "python",
   "nbconvert_exporter": "python",
   "pygments_lexer": "ipython2",
   "version": "2.7.6"
  }
 },
 "nbformat": 4,
 "nbformat_minor": 0
}