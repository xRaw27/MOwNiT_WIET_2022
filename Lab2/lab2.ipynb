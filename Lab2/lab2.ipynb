{
 "cells": [
  {
   "cell_type": "code",
   "execution_count": 80,
   "metadata": {
    "collapsed": true
   },
   "outputs": [],
   "source": [
    "from time import time\n",
    "import numpy as np\n",
    "import matplotlib.pyplot as plt"
   ]
  },
  {
   "cell_type": "markdown",
   "metadata": {},
   "source": [
    "## Zadanie 1"
   ]
  },
  {
   "cell_type": "code",
   "execution_count": 57,
   "metadata": {
    "pycharm": {
     "name": "#%%\n"
    }
   },
   "outputs": [],
   "source": [
    "def gauss_jordan(A, B, partial_pivoting=True):\n",
    "    n = A.shape[0]\n",
    "    AB = np.hstack((A, B))\n",
    "\n",
    "    # Scaling\n",
    "    for i in range(n):\n",
    "        AB[i] /= np.max(np.abs(A[i]))\n",
    "\n",
    "    for i in range(n):\n",
    "        if partial_pivoting:\n",
    "            pivot = i + np.abs(AB[i:,i]).argmax()\n",
    "            AB[[i, pivot]] = AB[[pivot, i]]\n",
    "\n",
    "        AB[i] /= AB[i, i]\n",
    "\n",
    "        for j in range(n):\n",
    "            if i != j:\n",
    "                AB[j] -= AB[j, i] * AB[i]\n",
    "\n",
    "    return AB[:,n]"
   ]
  },
  {
   "cell_type": "code",
   "execution_count": 23,
   "metadata": {
    "pycharm": {
     "name": "#%%\n"
    }
   },
   "outputs": [],
   "source": [
    "def random_a_b_integers(n, _min=-99, _max=99):\n",
    "    a = np.random.randint(_min, _max, n * n).astype(np.float64).reshape(n, n)\n",
    "    b = np.random.randint(_min, _max, n).astype(np.float64).reshape(n, 1)\n",
    "    return a, b"
   ]
  },
  {
   "cell_type": "code",
   "execution_count": 24,
   "metadata": {
    "pycharm": {
     "name": "#%%\n"
    }
   },
   "outputs": [],
   "source": [
    "def random_a_b_float(n, _min=-100000, _max=100000):\n",
    "    a = np.random.uniform(_min, _max, [n, n])\n",
    "    b = np.random.uniform(_min, _max, [n, 1])\n",
    "    return a, b"
   ]
  },
  {
   "cell_type": "markdown",
   "source": [
    "#### Partial pivoting - porównanie dokładności"
   ],
   "metadata": {
    "collapsed": false,
    "pycharm": {
     "name": "#%% md\n"
    }
   }
  },
  {
   "cell_type": "code",
   "execution_count": 113,
   "metadata": {
    "pycharm": {
     "name": "#%%\n"
    }
   },
   "outputs": [
    {
     "name": "stdout",
     "output_type": "stream",
     "text": [
      "\n",
      "Test 1\n",
      "[partial pivoting] Tolerancja bezwzględna 1e-11, np.allclose: True\n",
      "[partial pivoting] Tolerancja bezwzględna 1e-12, np.allclose: True\n",
      "[partial pivoting] Tolerancja bezwzględna 1e-13, np.allclose: True\n",
      "[partial pivoting] Tolerancja bezwzględna 1e-14, np.allclose: False\n",
      "[no partial pivoting] Tolerancja bezwzględna 1e-10, np.allclose: True\n",
      "[no partial pivoting] Tolerancja bezwzględna 1e-11, np.allclose: True\n",
      "[no partial pivoting] Tolerancja bezwzględna 1e-12, np.allclose: False\n",
      "\n",
      "Test 2\n",
      "[partial pivoting] Tolerancja bezwzględna 1e-11, np.allclose: True\n",
      "[partial pivoting] Tolerancja bezwzględna 1e-12, np.allclose: True\n",
      "[partial pivoting] Tolerancja bezwzględna 1e-13, np.allclose: True\n",
      "[partial pivoting] Tolerancja bezwzględna 1e-14, np.allclose: False\n",
      "[no partial pivoting] Tolerancja bezwzględna 1e-10, np.allclose: True\n",
      "[no partial pivoting] Tolerancja bezwzględna 1e-11, np.allclose: True\n",
      "[no partial pivoting] Tolerancja bezwzględna 1e-12, np.allclose: False\n",
      "\n",
      "Test 3\n",
      "[partial pivoting] Tolerancja bezwzględna 1e-11, np.allclose: True\n",
      "[partial pivoting] Tolerancja bezwzględna 1e-12, np.allclose: True\n",
      "[partial pivoting] Tolerancja bezwzględna 1e-13, np.allclose: True\n",
      "[partial pivoting] Tolerancja bezwzględna 1e-14, np.allclose: False\n",
      "[no partial pivoting] Tolerancja bezwzględna 1e-10, np.allclose: True\n",
      "[no partial pivoting] Tolerancja bezwzględna 1e-11, np.allclose: False\n",
      "[no partial pivoting] Tolerancja bezwzględna 1e-12, np.allclose: False\n"
     ]
    }
   ],
   "source": [
    "for i in range(3):\n",
    "    np.random.seed(i)\n",
    "    a, b = random_a_b_float(500)\n",
    "    gauss_jordan_partial_pivoting = gauss_jordan(a, b).reshape(500, 1)\n",
    "    gauss_jordan_no_partial_pivoting = gauss_jordan(a, b, partial_pivoting=False).reshape(500, 1)\n",
    "    np_linalg_solve = np.linalg.solve(a, b)\n",
    "    print(\"\\nTest\", i + 1)\n",
    "    print(\"[partial pivoting] Tolerancja bezwzględna 1e-11, np.allclose:\", np.allclose(gauss_jordan_partial_pivoting, np_linalg_solve, rtol=0, atol=10e-11))\n",
    "    print(\"[partial pivoting] Tolerancja bezwzględna 1e-12, np.allclose:\", np.allclose(gauss_jordan_partial_pivoting, np_linalg_solve, rtol=0, atol=10e-12))\n",
    "    print(\"[partial pivoting] Tolerancja bezwzględna 1e-13, np.allclose:\", np.allclose(gauss_jordan_partial_pivoting, np_linalg_solve, rtol=0, atol=10e-13))\n",
    "    print(\"[partial pivoting] Tolerancja bezwzględna 1e-14, np.allclose:\", np.allclose(gauss_jordan_partial_pivoting, np_linalg_solve, rtol=0, atol=10e-14))\n",
    "    print(\"[no partial pivoting] Tolerancja bezwzględna 1e-10, np.allclose:\", np.allclose(gauss_jordan_no_partial_pivoting, np_linalg_solve, rtol=0, atol=10e-10))\n",
    "    print(\"[no partial pivoting] Tolerancja bezwzględna 1e-11, np.allclose:\", np.allclose(gauss_jordan_no_partial_pivoting, np_linalg_solve, rtol=0, atol=10e-11))\n",
    "    print(\"[no partial pivoting] Tolerancja bezwzględna 1e-12, np.allclose:\", np.allclose(gauss_jordan_no_partial_pivoting, np_linalg_solve, rtol=0, atol=10e-12))"
   ]
  },
  {
   "cell_type": "markdown",
   "source": [
    "- Testujemy dokładność porównując wynik z wektorem otrzymanym przy użyciu funkcji np.linalg.solve\n",
    "- Do porównania wykorzystana została funkcja np.allclose z ustawioną coraz mniejszą tolerancją bezwzględną (tolerancja względna ustawiona na 0).\n",
    "- Jak widać z powyższego testu dzięki zastosowaniu partial pivotingu błąd bezwględny zmalał z rzędu ~$10^{-11}$ do rzędu ~$10^{-13}$ dla macierzy 500x500"
   ],
   "metadata": {
    "collapsed": false,
    "pycharm": {
     "name": "#%% md\n"
    }
   }
  },
  {
   "cell_type": "markdown",
   "source": [
    "#### Porównanie czasów Gaussa-Jordana z np.linalg.solve dla 10 macierzy większych niż 500x500"
   ],
   "metadata": {
    "collapsed": false,
    "pycharm": {
     "name": "#%% md\n"
    }
   }
  },
  {
   "cell_type": "code",
   "execution_count": 117,
   "metadata": {
    "pycharm": {
     "name": "#%%\n"
    }
   },
   "outputs": [
    {
     "name": "stdout",
     "output_type": "stream",
     "text": [
      "Macierz o rozmiarze 550x550: \n",
      "  Gauss-Jordan:  1.455107 sekund\n",
      "  np.linalg.solve:  0.049867 sekund\n",
      "  Weryfikacja poprawności z tolerancją bezwzględna 10e-10, np.allclose: True\n",
      "Macierz o rozmiarze 600x600: \n",
      "  Gauss-Jordan:  1.361388 sekund\n",
      "  np.linalg.solve:  0.001965 sekund\n",
      "  Weryfikacja poprawności z tolerancją bezwzględna 10e-10, np.allclose: True\n",
      "Macierz o rozmiarze 650x650: \n",
      "  Gauss-Jordan:  1.355375 sekund\n",
      "  np.linalg.solve:  0.003989 sekund\n",
      "  Weryfikacja poprawności z tolerancją bezwzględna 10e-10, np.allclose: True\n",
      "Macierz o rozmiarze 700x700: \n",
      "  Gauss-Jordan:  1.493035 sekund\n",
      "  np.linalg.solve:  0.002964 sekund\n",
      "  Weryfikacja poprawności z tolerancją bezwzględna 10e-10, np.allclose: True\n",
      "Macierz o rozmiarze 750x750: \n",
      "  Gauss-Jordan:  1.728376 sekund\n",
      "  np.linalg.solve:  0.00399 sekund\n",
      "  Weryfikacja poprawności z tolerancją bezwzględna 10e-10, np.allclose: True\n",
      "Macierz o rozmiarze 800x800: \n",
      "  Gauss-Jordan:  2.022617 sekund\n",
      "  np.linalg.solve:  0.003962 sekund\n",
      "  Weryfikacja poprawności z tolerancją bezwzględna 10e-10, np.allclose: True\n",
      "Macierz o rozmiarze 850x850: \n",
      "  Gauss-Jordan:  2.562146 sekund\n",
      "  np.linalg.solve:  0.007979 sekund\n",
      "  Weryfikacja poprawności z tolerancją bezwzględna 10e-10, np.allclose: True\n",
      "Macierz o rozmiarze 900x900: \n",
      "  Gauss-Jordan:  2.749674 sekund\n",
      "  np.linalg.solve:  0.007949 sekund\n",
      "  Weryfikacja poprawności z tolerancją bezwzględna 10e-10, np.allclose: True\n",
      "Macierz o rozmiarze 950x950: \n",
      "  Gauss-Jordan:  3.072779 sekund\n",
      "  np.linalg.solve:  0.006983 sekund\n",
      "  Weryfikacja poprawności z tolerancją bezwzględna 10e-10, np.allclose: True\n",
      "Macierz o rozmiarze 1000x1000: \n",
      "  Gauss-Jordan:  3.399932 sekund\n",
      "  np.linalg.solve:  0.007951 sekund\n",
      "  Weryfikacja poprawności z tolerancją bezwzględna 10e-10, np.allclose: True\n"
     ]
    }
   ],
   "source": [
    "for n in range(550, 1001, 50):\n",
    "    a, b = random_a_b_float(n)\n",
    "    print(f\"Macierz o rozmiarze {n}x{n}: \")\n",
    "\n",
    "    start = time()\n",
    "    gs = gauss_jordan(a, b)\n",
    "    print(\"  Gauss-Jordan: \", round(time() - start, 6), \"sekund\")\n",
    "\n",
    "    start = time()\n",
    "    nls = np.linalg.solve(a, b)\n",
    "    print(\"  np.linalg.solve: \", round(time() - start, 6), \"sekund\")\n",
    "\n",
    "    print(\"  Weryfikacja poprawności z tolerancją bezwzględna 10e-10, np.allclose:\", np.allclose(gs.reshape(n, 1), nls, rtol=0, atol=10e-10))"
   ]
  },
  {
   "cell_type": "markdown",
   "source": [
    "#### Wykres porównujący czas działania Gaussa-Jordana z np.linalg.solve dla macierzy o rozmiarze od 100x100 do 1000x1000"
   ],
   "metadata": {
    "collapsed": false,
    "pycharm": {
     "name": "#%% md\n"
    }
   }
  },
  {
   "cell_type": "code",
   "execution_count": 134,
   "metadata": {
    "pycharm": {
     "name": "#%%\n"
    }
   },
   "outputs": [
    {
     "data": {
      "text/plain": "<Figure size 864x360 with 2 Axes>",
      "image/png": "[encoded data removed]"
     },
     "metadata": {
      "needs_background": "light"
     },
     "output_type": "display_data"
    }
   ],
   "source": [
    "x = [n for n in range(100, 1001, 100)]\n",
    "gs = []\n",
    "nls = []\n",
    "for n in x:\n",
    "    a, b = random_a_b_float(n)\n",
    "    start = time()\n",
    "    gauss_jordan(a, b)\n",
    "    gs.append(time() - start)\n",
    "    start = time()\n",
    "    np.linalg.solve(a, b)\n",
    "    nls.append(time() - start)\n",
    "\n",
    "fig, axs = plt.subplots(1, 2, figsize=(12, 5))\n",
    "for ax in axs:\n",
    "    ax.plot(x, gs, marker='.', label='Gauss-Jordan partial pivoting')\n",
    "    ax.plot(x, nls, marker='.', label='np.linalg.solve')\n",
    "    ax.set_xlabel('Rozmiar macierzy n')\n",
    "    ax.set_ylabel('Czas [s]')\n",
    "    ax.legend()\n",
    "axs[0].set_title('skala liniowa')\n",
    "axs[1].set_title('skala logarytmiczna')\n",
    "axs[1].set_yscale('log')\n",
    "plt.show()"
   ]
  },
  {
   "cell_type": "markdown",
   "metadata": {
    "pycharm": {
     "name": "#%% md\n"
    }
   },
   "source": [
    "## Zadanie 3 - Analiza obwodu elektrycznego"
   ]
  },
  {
   "cell_type": "markdown",
   "source": [
    "Napisz program, który:\n",
    " - Wczytuje z pliku listę krawędzi grafu nieskierowanego ważonego opisującego obwód elektryczny. Wagi krawędzi określają opór fragmentu obwodu między dwoma węzłami. Wierzchołki grafu identyfikowane są przez liczby naturalne.\n",
    " - Wczytuje dodatkowo trójkę liczb (s, t, E), przy czym para (s, t) wskazuje między którymi węzłami sieci przyłożono siłę elektromotoryczną E. Opór wewnętrzny SEM można zaniedbać.\n",
    " - Wykorzystując prawa Kirchhoffa (albo metodę potencjałów węzłowych) znajduje natężenia prądu w każdej części obwodu i przedstawia je na rysunku w postaci grafu ważonego z etykietami (wizualizacja grafu wraz z kolorowymi krawędziami pokazującymi wartość natężenia prądu oraz jego kierunek)\n",
    " - Przedstaw (wizualizacja + automatyczne sprawdzenie poprawności wyników) działanie programu dla grafów spójnych mających od 15 do 200 wierzchołków. Rozważ\n",
    "    następujące typy grafów:\n",
    "    - Spójny graf losowy (Erdos-Renyi)\n",
    "    - Graf 3-regularny (kubiczny)\n",
    "    - Graf złożony z dwóch grafów losowych połaczonych mostkiem\n",
    "    - Graf siatka 2D\n",
    "    - Graf typu small-world\n",
    " - Skomentuj wybrane rozwiązanie - prawa Kirchoffa I, II vs. metoda potencjałów węzłowych. W przypadku korzystania z praw Kirchoffa - w jaki sposób możemy rozwiązać nadokreślony układ równań. Opisz najważniejsze aspekty swojego rozwiązania (kierunek prądu, weryfikacja poprawności rozwiązania, sposób wyznaczania cykli prostych).\n"
   ],
   "metadata": {
    "collapsed": false,
    "pycharm": {
     "name": "#%% md\n"
    }
   }
  },
  {
   "cell_type": "code",
   "execution_count": 5,
   "outputs": [],
   "source": [
    "from zad3 import electric_circuit_nodal_analysis, electric_circuit_kirchhoff_laws, is_solution_correct\n",
    "import networkx as nx"
   ],
   "metadata": {
    "collapsed": false,
    "pycharm": {
     "name": "#%%\n"
    }
   }
  },
  {
   "cell_type": "markdown",
   "source": [
    "Działanie programu:\n",
    " - Program korzysta z bibliotek:\n",
    "   - NetworkX - do reprezenacji grafu\n",
    "   - NumPy - do rozwiązywania układów równań liniowych\n",
    "   - Matplotlib - do rysowania grafu (funkcje do rysowania biblioteki NetworkX korzystają z Matplotliba)\n",
    " - Program został zaimplementowany w pliku zad3.py, aby przedstawić jego działanie, importowane są następujące funkcje:\n",
    "   - electric_circuit_kirchhoff_laws - korzystając z praw Kirchhoffa znajduje natężenia prądu w każdej części obwodu i przedstawia je na rysunku w postaci grafu\n",
    "   - electric_circuit_nodal_analysis - wykorzystuje metodę potencjałów węzłowych do znalezienia natężenia prądu w każdej części obwodu i przedstawia wyniki na rysunku w postaci grafu\n",
    "   - is_solution_correct - weryfikuje poprawność rozwiązania, sprawdzając czy spełnione są oba prawa Kirchhoffa\n",
    " - Testowe grafy są umieszczone w folderze tests i są wczytywane przy pomocy funkcji read_edgelist z biblioteki NetworkX.\n",
    " - Funkcje electric_circuit_kirchhoff_laws i electric_circuit_nodal_analysis przyjmują 4 argumenty pozycyjne, są to po kolei:\n",
    "   - G - graf nieskierowany reprezentujący obwód elektryczny. Domyślnie przyjmowana jest wartośc rezystancji 1Ω na każdej krawędzi, jeśli chcemy ustawić inne wartości, należy przypisać do każdej krawędzi właściwość \"R\" określającą wartość rezystancji [dokumentacja - networkx.Graph.edges](https://networkx.org/documentation/stable/reference/classes/generated/networkx.Graph.edges.html)\n",
    "   - s - węzeł początkowy SEM\n",
    "   - t - węzeł końcowy SEM\n",
    "   - E - wartość siły elektromotorycznej w Voltach\n",
    " - Funkcje te przyjmują również kilka argumentów nazwanych z wartościami domyślnymi, które służą do dostosowywania opcji rysowania grafu.\n",
    " - Funkcje oprócz rysowania grafu, zwracają również dwa grafy G i H, które reprezentują wynik i mogą być przekazane do funkcji is_solution_correct w celu weryfikacji rozwiązania."
   ],
   "metadata": {
    "collapsed": false,
    "pycharm": {
     "name": "#%% md\n"
    }
   }
  },
  {
   "cell_type": "markdown",
   "source": [
    "## Testowanie działania programu"
   ],
   "metadata": {
    "collapsed": false,
    "pycharm": {
     "name": "#%% md\n"
    }
   }
  },
  {
   "cell_type": "markdown",
   "source": [
    " - Testy zgodnie z treścią zadania zostały przeprowadzone dla 5 rodzajów grafów.\n",
    " - Dla każdego grafu zostało wykonane kilka testów dla różnych s i t.\n",
    " - Dla dużych grafów etykiety krawędzi zostały ukryte, aby rysunek był bardziej wyraźny. Wartość natężenia jest reprezentowana przez odpowiednie kolorowanie krawędzi, a wartość odpowiadającą danemu kolorowi można odczytać z słupka obok wykresu. Dla tych grafów przyjęta została domyślna wartość oporu na wszystkich krawędziach równa 1Ω.\n",
    " - Dla mniejszych grafów wyświetlane są etykiety przedstawiające rezystanję krawędzi oraz obliczną wartość natężenia prądu. Opry dla tych grafów zostały przypisane losowo.\n",
    " - Aby przedstawić działanie obu sposobów ( prawa Kirchoffa I, II oraz metoda potencjałów węzłowych) są one używane podczas testów na zmianę.\n",
    " - Każdy wynik jest dodatkowo weryfikowany przez funkcję is_solution_correct."
   ],
   "metadata": {
    "collapsed": false,
    "pycharm": {
     "name": "#%% md\n"
    }
   }
  },
  {
   "cell_type": "markdown",
   "source": [
    "#### Spójny graf losowy (Erdos-Renyi)"
   ],
   "metadata": {
    "collapsed": false,
    "pycharm": {
     "name": "#%% md\n"
    }
   }
  },
  {
   "cell_type": "markdown",
   "source": [
    "#### Graf 3-regularny (kubiczny)"
   ],
   "metadata": {
    "collapsed": false,
    "pycharm": {
     "name": "#%% md\n"
    }
   }
  },
  {
   "cell_type": "code",
   "execution_count": 16,
   "outputs": [],
   "source": [
    "graph = nx.read_edgelist(path=\"./tests/3-regular_30_nodes_random_R\", nodetype=int, data=(('R', float),))\n",
    "pos = nx.kamada_kawai_layout(graph)"
   ],
   "metadata": {
    "collapsed": false,
    "pycharm": {
     "name": "#%%\n"
    }
   }
  },
  {
   "cell_type": "code",
   "execution_count": null,
   "outputs": [],
   "source": [
    "G, H = electric_circuit_kirchhoff_laws(graph.copy(), 12, 27, 100, show_edge_labels=True, pos=pos)\n",
    "print(\"Wynik weryfikacji rozwiązania:\", \"Rozwiązanie poprawne\" if is_solution_correct(G, H, 100) else \"Rozwiązanie błędne\")"
   ],
   "metadata": {
    "collapsed": false,
    "pycharm": {
     "name": "#%%\n",
     "is_executing": true
    }
   }
  },
  {
   "cell_type": "code",
   "execution_count": null,
   "outputs": [],
   "source": [
    "G, H = electric_circuit_nodal_analysis(graph.copy(), 3, 12, 100, show_edge_labels=True, pos=pos)\n",
    "print(\"Wynik weryfikacji rozwiązania:\", \"Rozwiązanie poprawne\" if is_solution_correct(G, H, 100) else \"Rozwiązanie błędne\")"
   ],
   "metadata": {
    "collapsed": false,
    "pycharm": {
     "name": "#%%\n",
     "is_executing": true
    }
   }
  },
  {
   "cell_type": "code",
   "execution_count": null,
   "outputs": [],
   "source": [
    "G, H = electric_circuit_kirchhoff_laws(graph.copy(), 2, 18, 100, show_edge_labels=True, pos=pos)\n",
    "print(\"Wynik weryfikacji rozwiązania:\", \"Rozwiązanie poprawne\" if is_solution_correct(G, H, 100) else \"Rozwiązanie błędne\")"
   ],
   "metadata": {
    "collapsed": false,
    "pycharm": {
     "name": "#%%\n",
     "is_executing": true
    }
   }
  },
  {
   "cell_type": "code",
   "execution_count": null,
   "outputs": [],
   "source": [
    "G, H = electric_circuit_nodal_analysis(graph.copy(), 10, 25, 100, show_edge_labels=True, pos=pos)\n",
    "print(\"Wynik weryfikacji rozwiązania:\", \"Rozwiązanie poprawne\" if is_solution_correct(G, H, 100) else \"Rozwiązanie błędne\")"
   ],
   "metadata": {
    "collapsed": false,
    "pycharm": {
     "name": "#%%\n",
     "is_executing": true
    }
   }
  },
  {
   "cell_type": "code",
   "execution_count": 7,
   "metadata": {
    "pycharm": {
     "name": "#%%\n"
    }
   },
   "outputs": [],
   "source": [
    "graph = nx.read_edgelist(path=\"./tests/3-regular_100_nodes\", nodetype=int)\n",
    "pos = nx.kamada_kawai_layout(graph)"
   ]
  },
  {
   "cell_type": "code",
   "execution_count": null,
   "outputs": [],
   "source": [
    "G, H = electric_circuit_kirchhoff_laws(graph.copy(), 52, 68, 100, pos=pos)\n",
    "print(\"Wynik weryfikacji rozwiązania:\", \"Rozwiązanie poprawne\" if is_solution_correct(G, H, 100) else \"Rozwiązanie błędne\")"
   ],
   "metadata": {
    "collapsed": false,
    "pycharm": {
     "name": "#%%\n",
     "is_executing": true
    }
   }
  },
  {
   "cell_type": "code",
   "execution_count": null,
   "metadata": {
    "pycharm": {
     "name": "#%%\n",
     "is_executing": true
    }
   },
   "outputs": [],
   "source": [
    "G, H = electric_circuit_nodal_analysis(graph.copy(), 40, 67, 100, pos=pos)\n",
    "print(\"Wynik weryfikacji rozwiązania:\", \"Rozwiązanie poprawne\" if is_solution_correct(G, H, 100) else \"Rozwiązanie błędne\")"
   ]
  },
  {
   "cell_type": "code",
   "execution_count": null,
   "outputs": [],
   "source": [
    "G, H = electric_circuit_kirchhoff_laws(graph.copy(), 60, 80, 100, pos=pos)\n",
    "print(\"Wynik weryfikacji rozwiązania:\", \"Rozwiązanie poprawne\" if is_solution_correct(G, H, 100) else \"Rozwiązanie błędne\")"
   ],
   "metadata": {
    "collapsed": false,
    "pycharm": {
     "name": "#%%\n",
     "is_executing": true
    }
   }
  },
  {
   "cell_type": "code",
   "execution_count": null,
   "outputs": [],
   "source": [
    "G, H = electric_circuit_nodal_analysis(graph.copy(), 12, 24, 100, pos=pos)\n",
    "print(\"Wynik weryfikacji rozwiązania:\", \"Rozwiązanie poprawne\" if is_solution_correct(G, H, 100) else \"Rozwiązanie błędne\")"
   ],
   "metadata": {
    "collapsed": false,
    "pycharm": {
     "name": "#%%\n",
     "is_executing": true
    }
   }
  },
  {
   "cell_type": "code",
   "execution_count": null,
   "outputs": [],
   "source": [],
   "metadata": {
    "collapsed": false,
    "pycharm": {
     "name": "#%%\n"
    }
   }
  }
 ],
 "metadata": {
  "kernelspec": {
   "display_name": "Python 3 (ipykernel)",
   "language": "python",
   "name": "python3"
  },
  "language_info": {
   "codemirror_mode": {
    "name": "ipython",
    "version": 3
   },
   "file_extension": ".py",
   "mimetype": "text/x-python",
   "name": "python",
   "nbconvert_exporter": "python",
   "pygments_lexer": "ipython3",
   "version": "3.9.7"
  }
 },
 "nbformat": 4,
 "nbformat_minor": 1
}