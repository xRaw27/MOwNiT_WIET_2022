{
 "cells": [
  {
   "cell_type": "code",
   "execution_count": 32,
   "metadata": {
    "collapsed": true
   },
   "outputs": [],
   "source": [
    "import matplotlib.pyplot as plt\n",
    "import numpy as np"
   ]
  },
  {
   "cell_type": "code",
   "execution_count": 33,
   "outputs": [],
   "source": [
    "def fill(T):\n",
    "    n = len(T)\n",
    "    result = np.zeros_like(T)\n",
    "\n",
    "    curr_max = 0\n",
    "    k = 0\n",
    "    for i in range(n):\n",
    "        if T[i] >= curr_max:\n",
    "            while k < i:\n",
    "                result[k] = curr_max\n",
    "                k += 1\n",
    "            curr_max = T[i]\n",
    "\n",
    "    curr_max = 0\n",
    "    k = n - 1\n",
    "    for i in range(n - 1, -1, -1):\n",
    "        if T[i] >= curr_max:\n",
    "            while k > i:\n",
    "                result[k] = curr_max\n",
    "                k -= 1\n",
    "            curr_max = T[i]\n",
    "\n",
    "    return np.max([T, result], axis=0)\n",
    "\n",
    "\n",
    "def generate_test(n):\n",
    "\n",
    "    for i in range"
   ],
   "metadata": {
    "collapsed": false,
    "pycharm": {
     "name": "#%%\n"
    }
   }
  },
  {
   "cell_type": "code",
   "execution_count": 44,
   "outputs": [
    {
     "data": {
      "text/plain": "(-0.5, 49.5)"
     },
     "execution_count": 44,
     "metadata": {},
     "output_type": "execute_result"
    },
    {
     "data": {
      "text/plain": "<Figure size 432x288 with 1 Axes>",
      "image/png": "[encoded data removed]"
     },
     "metadata": {
      "needs_background": "light"
     },
     "output_type": "display_data"
    }
   ],
   "source": [
    "np.random.seed(3)\n",
    "\n",
    "n = 50\n",
    "T = np.concatenate(([0, 0], np.random.randint(0, 20, n - 4), [0, 0]))\n",
    "\n",
    "\n",
    "plt.bar(np.arange(n), fill(T), color='blue', width=1)\n",
    "plt.bar(np.arange(n), T, color='green', width=1)\n",
    "plt.xlim(-0.5, n - 0.5)"
   ],
   "metadata": {
    "collapsed": false,
    "pycharm": {
     "name": "#%%\n"
    }
   }
  },
  {
   "cell_type": "code",
   "execution_count": null,
   "outputs": [],
   "source": [],
   "metadata": {
    "collapsed": false,
    "pycharm": {
     "name": "#%%\n"
    }
   }
  }
 ],
 "metadata": {
  "kernelspec": {
   "display_name": "Python 3",
   "language": "python",
   "name": "python3"
  },
  "language_info": {
   "codemirror_mode": {
    "name": "ipython",
    "version": 2
   },
   "file_extension": ".py",
   "mimetype": "text/x-python",
   "name": "python",
   "nbconvert_exporter": "python",
   "pygments_lexer": "ipython2",
   "version": "2.7.6"
  }
 },
 "nbformat": 4,
 "nbformat_minor": 0
}