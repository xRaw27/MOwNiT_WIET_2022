{
 "cells": [
  {
   "cell_type": "code",
   "execution_count": 97,
   "metadata": {
    "collapsed": true
   },
   "outputs": [],
   "source": [
    "from time import time\n",
    "import numpy as np\n",
    "from mpmath import mp\n",
    "import matplotlib.pyplot as plt\n"
   ]
  },
  {
   "cell_type": "code",
   "execution_count": 141,
   "outputs": [],
   "source": [
    "f1 = lambda x: mp.cos(x) * mp.cosh(x) - 1\n",
    "df1 = lambda x: mp.cos(x) * mp.sinh(x) - mp.cosh(x) * mp.sin(x)\n",
    "f2 = lambda x: 1/x - mp.tan(x)\n",
    "f3 = lambda x: 2 ** (-x) + mp.e ** x + 2 * mp.cos(x) - 6"
   ],
   "metadata": {
    "collapsed": false,
    "pycharm": {
     "name": "#%%\n"
    }
   }
  },
  {
   "cell_type": "code",
   "execution_count": 119,
   "outputs": [],
   "source": [
    "def bisection_method(f, a, b, eps_x, eps_y):\n",
    "    c = mp.mpf(0)\n",
    "\n",
    "    i = 0\n",
    "    while True:\n",
    "        # print(abs(b - a))\n",
    "        if abs(b - a) < eps_x:\n",
    "            return c, i, \"eps_x stop\"\n",
    "\n",
    "        i += 1\n",
    "        c = a + (b - a) / 2\n",
    "        if abs(f(c)) < eps_y:\n",
    "            return c, i, \"eps_y stop\"\n",
    "\n",
    "        if mp.sign(f(a)) == mp.sign(f(c)):\n",
    "            a = c\n",
    "        else:\n",
    "            b = c\n",
    "\n"
   ],
   "metadata": {
    "collapsed": false,
    "pycharm": {
     "name": "#%%\n"
    }
   }
  },
  {
   "cell_type": "code",
   "execution_count": 110,
   "outputs": [],
   "source": [
    "def newton_method(f, df, x_0, max_iter, eps):\n",
    "    x = x_0\n",
    "    for i in range(max_iter):\n",
    "        prev_x = x\n",
    "        x = x - f(x)/df(x)\n",
    "        if abs(x - prev_x) < eps:\n",
    "            return x, i + 1, \"eps stop\"\n",
    "\n",
    "    return x, max_iter, \"max_iter stop\""
   ],
   "metadata": {
    "collapsed": false,
    "pycharm": {
     "name": "#%%\n"
    }
   }
  },
  {
   "cell_type": "code",
   "execution_count": 117,
   "outputs": [],
   "source": [
    "def secant_method(f, x_n, x_n_min_1, max_iter, eps):\n",
    "    for i in range(max_iter):\n",
    "\n",
    "        temp = x_n\n",
    "        x_n = x_n - f(x_n)*(x_n - x_n_min_1)/(f(x_n) - f(x_n_min_1))\n",
    "        x_n_min_1 = temp\n",
    "        if abs(x_n - x_n_min_1) < eps:\n",
    "            return x_n, i + 1, \"eps stop\"\n",
    "\n",
    "    return x_n, max_iter, \"max_iter stop\""
   ],
   "metadata": {
    "collapsed": false,
    "pycharm": {
     "name": "#%%\n"
    }
   }
  },
  {
   "cell_type": "code",
   "execution_count": 128,
   "outputs": [],
   "source": [
    "def mixed_method(f, a, b, eps, max_iter):\n",
    "    c = mp.mpf(0)\n",
    "    for i in range(3):\n",
    "        c = a + (b - a) / 2\n",
    "        if mp.sign(f(a)) == mp.sign(f(c)):\n",
    "            a = c\n",
    "        else:\n",
    "            b = c\n",
    "\n",
    "    x_n = c\n",
    "    x_n_min_1 = a + (b - a) / 2\n",
    "\n",
    "    for i in range(max_iter):\n",
    "        temp = x_n\n",
    "        x_n = x_n - f(x_n)*(x_n - x_n_min_1)/(f(x_n) - f(x_n_min_1))\n",
    "        x_n_min_1 = temp\n",
    "        if abs(x_n - x_n_min_1) < eps:\n",
    "            return x_n, i + 1, \"eps stop\"\n",
    "\n",
    "    return x_n, max_iter, \"max_iter stop\""
   ],
   "metadata": {
    "collapsed": false,
    "pycharm": {
     "name": "#%%\n"
    }
   }
  },
  {
   "cell_type": "code",
   "execution_count": 151,
   "outputs": [
    {
     "name": "stdout",
     "output_type": "stream",
     "text": [
      "(0.860333589, 6, 'eps stop')\n"
     ]
    }
   ],
   "source": [
    "mp.dps = 10\n",
    "mp.pretty = True\n",
    "\n",
    "# print(bisection_method(f1, 3/2*mp.pi, 2*mp.pi, mp.mpf('0.0000001'), mp.mpf('0.0000001')))\n",
    "# print(newton_method(f1, df1, mp.mpf('5'), 100, mp.mpf('0.0000001')))\n",
    "# print(secant_method(f1, 3, 5, 100, mp.mpf('0.0000001')))\n",
    "print(secant_method(f2, 1/8, 1/4*mp.pi, 100, mp.mpf('10e-7')))"
   ],
   "metadata": {
    "collapsed": false,
    "pycharm": {
     "name": "#%%\n"
    }
   }
  },
  {
   "cell_type": "code",
   "execution_count": 159,
   "outputs": [],
   "source": [
    "mp.dps = 50\n",
    "mp.pretty = True\n",
    "\n",
    "epsilons = [mp.mpf('10e-7'), mp.mpf('10e-14'), mp.mpf('10e-21'), mp.mpf('10e-28'), mp.mpf('10e-35')]"
   ],
   "metadata": {
    "collapsed": false,
    "pycharm": {
     "name": "#%%\n"
    }
   }
  },
  {
   "cell_type": "code",
   "execution_count": 164,
   "outputs": [
    {
     "data": {
      "text/plain": "<Figure size 432x288 with 1 Axes>",
      "image/png": "[encoded data removed]"
     },
     "metadata": {
      "needs_background": "light"
     },
     "output_type": "display_data"
    }
   ],
   "source": [
    "mixed = []\n",
    "bisection = []\n",
    "\n",
    "for eps in epsilons:\n",
    "    mixed.append(mixed_method(f1, 3/2*mp.pi, 2*mp.pi, eps, 100)[1])\n",
    "    bisection.append(bisection_method(f1, 3/2*mp.pi, 2*mp.pi, eps, eps)[1])\n",
    "\n",
    "plt.plot([\"10e-7\", \"10e-14\", \"10e-21\", \"10e-28\", \"10e-35\"], mixed, marker='.', color='r', label='bisection + secant')\n",
    "plt.plot([\"10e-7\", \"10e-14\", \"10e-21\", \"10e-28\", \"10e-35\"], bisection, marker='.', color='g', label='bisection')\n",
    "\n",
    "plt.xlabel('epsilon')\n",
    "plt.ylabel('iteracje')\n",
    "plt.show()"
   ],
   "metadata": {
    "collapsed": false,
    "pycharm": {
     "name": "#%%\n"
    }
   }
  },
  {
   "cell_type": "code",
   "execution_count": 165,
   "outputs": [
    {
     "data": {
      "text/plain": "<Figure size 432x288 with 1 Axes>",
      "image/png": "[encoded data removed]"
     },
     "metadata": {
      "needs_background": "light"
     },
     "output_type": "display_data"
    }
   ],
   "source": [
    "mixed = []\n",
    "bisection = []\n",
    "\n",
    "for eps in epsilons:\n",
    "    mixed.append(mixed_method(f2, 0 + eps, 1/2*mp.pi, eps, 100)[1])\n",
    "    bisection.append(bisection_method(f2, 0 + eps, 1/2*mp.pi, eps, eps)[1])\n",
    "\n",
    "plt.plot([\"10e-7\", \"10e-14\", \"10e-21\", \"10e-28\", \"10e-35\"], mixed, marker='.', color='r')\n",
    "plt.plot([\"10e-7\", \"10e-14\", \"10e-21\", \"10e-28\", \"10e-35\"], bisection, marker='.', color='g')\n",
    "\n",
    "plt.xlabel('epsilon')\n",
    "plt.ylabel('iteracje')\n",
    "plt.show()"
   ],
   "metadata": {
    "collapsed": false,
    "pycharm": {
     "name": "#%%\n"
    }
   }
  },
  {
   "cell_type": "code",
   "execution_count": 166,
   "outputs": [
    {
     "data": {
      "text/plain": "<Figure size 432x288 with 1 Axes>",
      "image/png": "[encoded data removed]"
     },
     "metadata": {
      "needs_background": "light"
     },
     "output_type": "display_data"
    }
   ],
   "source": [
    "mixed = []\n",
    "bisection = []\n",
    "\n",
    "for eps in epsilons:\n",
    "    mixed.append(mixed_method(f3, mp.mpf('1'), mp.mpf('3'), eps, 100)[1])\n",
    "    bisection.append(bisection_method(f3, mp.mpf('1'), mp.mpf('3'), eps, eps)[1])\n",
    "\n",
    "plt.plot([\"10e-7\", \"10e-14\", \"10e-21\", \"10e-28\", \"10e-35\"], mixed, marker='.', color='r')\n",
    "plt.plot([\"10e-7\", \"10e-14\", \"10e-21\", \"10e-28\", \"10e-35\"], bisection, marker='.', color='g')\n",
    "\n",
    "plt.xlabel('epsilon')\n",
    "plt.ylabel('iteracje')\n",
    "plt.show()"
   ],
   "metadata": {
    "collapsed": false,
    "pycharm": {
     "name": "#%%\n"
    }
   }
  },
  {
   "cell_type": "code",
   "execution_count": null,
   "outputs": [],
   "source": [
    "# mp.dps = 50\n",
    "# mp.pretty = True\n",
    "# mp.cos(mp.mpf(\"1.1234\")) * mp.cosh(mp.mpf(\"1.1234\"))\n",
    "# mp.sqrt(6*mp.zeta(2))\n",
    "# str(mp.pi)\n",
    "# mp.sqrt(5)\n",
    "\n",
    "# mp.mpf('0.9')\n",
    "# mp.sign(124124) == 1"
   ],
   "metadata": {
    "collapsed": false,
    "pycharm": {
     "name": "#%%\n"
    }
   }
  }
 ],
 "metadata": {
  "kernelspec": {
   "display_name": "Python 3",
   "language": "python",
   "name": "python3"
  },
  "language_info": {
   "codemirror_mode": {
    "name": "ipython",
    "version": 2
   },
   "file_extension": ".py",
   "mimetype": "text/x-python",
   "name": "python",
   "nbconvert_exporter": "python",
   "pygments_lexer": "ipython2",
   "version": "2.7.6"
  }
 },
 "nbformat": 4,
 "nbformat_minor": 0
}